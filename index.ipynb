{
 "cells": [
  {
   "cell_type": "code",
   "execution_count": 143,
   "id": "febcc444",
   "metadata": {},
   "outputs": [],
   "source": [
    "import numpy as np\n",
    "import pandas as pd\n",
    "import os\n",
    "from sklearn.model_selection import train_test_split\n",
    "from sklearn.metrics import classification_report\n",
    "import re\n",
    "import nltk\n",
    "from nltk.stem import PorterStemmer\n",
    "from nltk.corpus import stopwords\n",
    "from nltk.tokenize import word_tokenize\n",
    "import matplotlib.pyplot as plt"
   ]
  },
  {
   "cell_type": "markdown",
   "id": "5ea177eb",
   "metadata": {},
   "source": [
    "### 1. Read data CSV and split into train and test sets"
   ]
  },
  {
   "cell_type": "code",
   "execution_count": 144,
   "id": "5a2c5a63",
   "metadata": {},
   "outputs": [],
   "source": [
    "path = f\"{os.getcwd()}/data/training-data.csv\"\n",
    "data = pd.read_csv(path, on_bad_lines=\"skip\", delimiter=';')"
   ]
  },
  {
   "cell_type": "markdown",
   "id": "021eb55e",
   "metadata": {},
   "source": [
    "### 2 Preprocess Data"
   ]
  },
  {
   "cell_type": "code",
   "execution_count": 145,
   "id": "6b55ad8d",
   "metadata": {},
   "outputs": [],
   "source": [
    "# Fetch stopwords vocabulary\n",
    "nltk.download('stopwords', quiet=True)\n",
    "nltk.download('punkt_tab', quiet=True)\n",
    "\n",
    "def preprocess_text(text):\n",
    "  # Typecasts non string values into strings\n",
    "  if not isinstance(text, str):\n",
    "    text = str(text)\n",
    "\n",
    "  # Converts text to lower case\n",
    "  text = text.lower()\n",
    "\n",
    "  # Remove special characters\n",
    "  r\"\"\"\n",
    "  Removes any characters that is NOT:\n",
    "  \\w -> word characters (letters, digit, underscore)\n",
    "  \\s -> whitespace characters (spaces, tabs, newlines)\n",
    "  \"\"\"\n",
    "  text = re.sub(r'[^\\w\\s]', '', text)\n",
    "\n",
    "  # Tokenize string\n",
    "  tokens = word_tokenize(text)\n",
    "\n",
    "  # Remove stop words (words with low information value) e.g. \"a\", \"I\", \"an\", \"but\", etc...\n",
    "  stopwords_set = set(stopwords.words(\"english\"))\n",
    "  tokens = [word for word in tokens if word not in stopwords_set] # Only add words that are not in the stop_wrods list\n",
    "\n",
    "  # Apply porter stemmer algorithm to simplify vocabulary\n",
    "  tokens = [PorterStemmer().stem(word) for word in tokens]\n",
    "\n",
    "  return ' '.join(tokens)\n",
    "\n",
    "data['text'] = data['text'].apply(preprocess_text)\n"
   ]
  },
  {
   "cell_type": "markdown",
   "id": "72147d56",
   "metadata": {},
   "source": [
    "### 3. Split Train, Test, Validate"
   ]
  },
  {
   "cell_type": "code",
   "execution_count": 146,
   "id": "444412bb",
   "metadata": {},
   "outputs": [],
   "source": [
    "# First Split: sepereate out test data (90% train + validation, 10% test)\n",
    "train_validation_data, test_data = train_test_split(\n",
    "  data,\n",
    "  train_size=0.8,\n",
    "  test_size=0.2,\n",
    "  random_state=42\n",
    ")\n",
    "\n",
    "# Second Split: seperate out train 70% and 20% validation\n",
    "train_data, validation_data = train_test_split(\n",
    "  train_validation_data,\n",
    "  train_size=0.7,\n",
    "  test_size=0.2,\n",
    "  random_state=42\n",
    ")"
   ]
  },
  {
   "cell_type": "markdown",
   "id": "05f6cd5a",
   "metadata": {},
   "source": [
    "### 4. Calculate initial probability for each label"
   ]
  },
  {
   "cell_type": "code",
   "execution_count": 147,
   "id": "c84050b9",
   "metadata": {},
   "outputs": [],
   "source": [
    "labels = train_data.label\n",
    "total_data_frequency = len(labels)\n",
    "label_frequencies = labels.value_counts().to_numpy()\n",
    "initial_probability = np.array([frequency / total_data_frequency for frequency in label_frequencies])"
   ]
  },
  {
   "cell_type": "markdown",
   "id": "a71746e8",
   "metadata": {},
   "source": [
    "### 5. Count how many times word X appears in label 0, 1, 2"
   ]
  },
  {
   "cell_type": "code",
   "execution_count": 148,
   "id": "936e48fe",
   "metadata": {},
   "outputs": [],
   "source": [
    "token_freq_map = {}\n",
    "token_freq_per_label = [0, 0 ,0]\n",
    "for i, row in train_data.iterrows():\n",
    "  label = row.label\n",
    "  tokens = str(row.text).split()\n",
    "\n",
    "  # Add the tokens count for the label\n",
    "  token_freq_per_label[label] += len(tokens)\n",
    "\n",
    "  for token in tokens:\n",
    "    # label 0, 1, 2 is labeled by the array's index, whilst the element is the count. e.g. map[\"I\"][0] -> how many times token \"I\" appear  in label 0\n",
    "    if token not in token_freq_map:\n",
    "      # Initialize empty list for non existing tokens\n",
    "      token_freq_map[token] = [0, 0, 0]\n",
    "\n",
    "    token_freq_map[token][label] += 1\n"
   ]
  },
  {
   "cell_type": "markdown",
   "id": "6ec0e9ea",
   "metadata": {},
   "source": [
    "### 6. Create a test function that tests probability results"
   ]
  },
  {
   "cell_type": "code",
   "execution_count": 149,
   "id": "58e69475",
   "metadata": {},
   "outputs": [],
   "source": [
    "# Used to test the given text against the calculated probabilities (this is declared on top because it needs to be used to find the best smoothing value)\n",
    "def classify(text, token_probabilities):\n",
    "  scores = initial_probability.copy()\n",
    "  tokens = text.split()\n",
    "\n",
    "  # Calculate probability for each label\n",
    "  for label in range(len(scores)):\n",
    "    for token in tokens:\n",
    "      if token in token_probabilities:\n",
    "        scores[label] *= token_probabilities[token][label]\n",
    "\n",
    "  # Retrieve the largest guess score's index (AKA. the label)\n",
    "  predicted_label = np.argmax(scores)\n",
    "  return predicted_label"
   ]
  },
  {
   "cell_type": "markdown",
   "id": "720fc5dc",
   "metadata": {},
   "source": [
    "### 7. Calculate the probability of word X in label 0, 1, 2"
   ]
  },
  {
   "cell_type": "code",
   "execution_count": 150,
   "id": "bc759c85",
   "metadata": {},
   "outputs": [],
   "source": [
    "def calculate_probability(smoothing):\n",
    "  token_probabilities = {}\n",
    "  token_length = len(token_freq_map)\n",
    "\n",
    "  for token, occurences in token_freq_map.items():\n",
    "    token_probabilities[token] = []\n",
    "    for label, occurence in enumerate(occurences):\n",
    "      # p(w | L) = (Count(w,L) + a) / TotalWords(L) + α·V\n",
    "      probability = (occurence + smoothing) / (token_freq_per_label[label] + smoothing * token_length)\n",
    "      token_probabilities[token].append(probability)\n",
    "\n",
    "  return token_probabilities\n"
   ]
  },
  {
   "cell_type": "markdown",
   "id": "e3f22864",
   "metadata": {},
   "source": [
    "### 8. Find the best smoothing value"
   ]
  },
  {
   "cell_type": "code",
   "execution_count": 151,
   "id": "184b8f9a",
   "metadata": {},
   "outputs": [],
   "source": [
    "MAX_SMOOTHING = 10\n",
    "# Generates [0, 0.25, 0,.5, ..., 5]\n",
    "# Add 0.1 because np.arrange will not use the last value if so.\n",
    "smoothing_values = np.arange(0, MAX_SMOOTHING + 0.1, 0.25)\n",
    "best_smoothing = smoothing_values[0]\n",
    "best_f1 = 0\n",
    "\n",
    "# Used to graph the search process\n",
    "history = []\n",
    "\n",
    "# Find the best smoothing values\n",
    "for smoothing in smoothing_values:\n",
    "  token_probabilities = calculate_probability(smoothing=smoothing)\n",
    "\n",
    "  val_predictions = [classify(data.text, token_probabilities) for _, data in validation_data.iterrows()]\n",
    "  val_actual = [data.label for _, data in validation_data.iterrows()]\n",
    "\n",
    "  # Get f1 score to compare\n",
    "  report = classification_report(val_actual, val_predictions, labels=[0,1,2], output_dict=True)\n",
    "  f1_average = report[\"weighted avg\"][\"f1-score\"]\n",
    "\n",
    "  history.append(f1_average)\n",
    "\n",
    "  if best_f1 < f1_average:\n",
    "    best_smoothing = smoothing\n",
    "    best_f1 = f1_average"
   ]
  },
  {
   "cell_type": "code",
   "execution_count": 152,
   "id": "8aef2710",
   "metadata": {},
   "outputs": [
    {
     "name": "stdout",
     "output_type": "stream",
     "text": [
      "Best smoothing : 1.5\n"
     ]
    },
    {
     "data": {
      "image/png": "[encoded data removed]",
      "text/plain": [
       "<Figure size 640x480 with 1 Axes>"
      ]
     },
     "metadata": {},
     "output_type": "display_data"
    }
   ],
   "source": [
    "plt.plot(smoothing_values[1:], history[1:])\n",
    "plt.xlabel(\"Smoothing Values\")\n",
    "plt.ylabel(\"F1 Average\")\n",
    "plt.title(\"Best Smoothing Value Search\")\n",
    "print(f\"Best smoothing : {best_smoothing}\")"
   ]
  },
  {
   "cell_type": "markdown",
   "id": "79acfae5",
   "metadata": {},
   "source": [
    "### 9. Test the model with the best calculated smoothing value"
   ]
  },
  {
   "cell_type": "code",
   "execution_count": 153,
   "id": "6398c79b",
   "metadata": {},
   "outputs": [
    {
     "name": "stdout",
     "output_type": "stream",
     "text": [
      "PREDICTION => [2, 2, 1, 1, 2, 2, 2, 0, 0, 0, 0, 1, 1, 1, 0, 0, 1, 0, 0, 1, 1, 1, 1, 2, 2, 2, 1, 1, 1, 1, 2, 1, 2, 1, 2, 1, 1, 1, 1, 1, 2, 1, 1, 1, 1, 2, 2, 1, 0, 0, 0, 2, 1, 0, 2, 2, 1, 1, 2, 1, 0, 1, 1, 2, 1, 2, 1, 1, 0, 2, 2, 1, 2, 2, 0, 1, 0, 1, 0, 2, 2, 1, 2, 1, 1, 1, 2, 1, 2, 2, 1, 2, 1, 1, 1, 1, 2, 2, 1, 2, 1, 1, 0, 1, 2, 0, 1, 1, 1, 1, 0, 1, 0, 0, 2, 1, 0, 1, 2, 2, 0, 1, 1, 1, 2, 2, 1, 0, 0, 2, 0, 2, 1, 2, 0, 2, 1, 1, 1, 2, 1, 1, 1, 2, 2, 1, 1, 1, 1, 2, 1, 1, 1, 2, 1, 1, 1, 1, 2, 1, 1, 1, 1, 2, 1, 1, 0, 1, 2, 2, 1, 0, 1, 1, 2, 2, 0, 1, 2, 1, 1, 2, 1, 2, 1, 0, 1, 2, 2, 1, 1, 1, 2, 2, 0, 1, 1, 1, 0, 1, 1, 2, 1, 1, 1, 0, 1, 1, 0, 1, 1, 2, 1, 0, 1, 1, 0, 0, 0, 2, 0, 1, 0, 1, 0, 2, 0, 1, 2, 0, 1, 1, 1, 1, 1, 1, 2, 2, 1, 1, 0, 1, 1, 1, 1, 0, 1, 2, 0, 1, 1, 2, 2, 1, 1, 2, 1, 1, 0, 1, 1, 2, 1, 0, 1, 1, 0, 1, 2, 2, 1, 1, 2, 1, 1, 1, 1, 2, 0, 2, 2, 1, 0, 0, 2, 0, 1, 2, 2, 2, 1, 1, 2, 1, 1, 2, 1, 2, 2, 1, 2, 0, 1, 0, 2, 2, 1, 2, 1, 0, 1, 0, 2, 0, 2, 0, 0, 0, 1, 2, 2, 2, 2, 1, 2, 2, 1, 0, 2, 1, 2, 2, 1, 1, 1, 0, 1, 1, 2, 0, 2, 0, 2, 0, 1, 2, 1, 1, 0, 2, 2, 2, 2, 0, 1, 1, 2, 0, 0, 0, 1, 1, 2, 0, 0, 1, 0, 2, 0, 0, 0, 0, 1, 1, 2, 2, 2, 2, 1, 0, 0, 0, 2, 2, 1, 1, 1, 2, 1, 1, 2, 0, 1, 2, 2, 1, 0, 1, 1, 1, 2, 2, 2, 0, 2, 0, 1, 1, 1, 1, 1, 2, 2, 2, 2, 2, 1, 2, 2, 1, 2, 2, 2, 2, 2, 0, 2, 0, 1, 1, 2, 1, 0, 2, 2, 0, 1, 0, 2, 0, 2, 0, 2, 1, 1, 2, 1, 0, 1, 2, 1, 1, 2, 1, 2, 1, 1, 0, 1, 1, 0, 0, 2, 0, 2, 1, 2, 1, 0, 1, 1, 0, 1, 2, 1, 1, 1, 2, 1, 2, 1, 1, 1, 2, 2, 2, 1, 2, 2, 2, 1, 2, 1, 1, 1, 2, 1, 2, 1, 2, 1, 2, 2, 2, 2, 2, 1, 0, 1, 1, 2, 1, 0, 0, 1, 0, 0, 2, 1, 2, 0, 1, 0, 0, 1, 1, 1, 0, 0, 2, 1, 0, 1, 0, 1, 1, 1, 2, 1, 1, 1, 2, 0, 1, 1, 1, 2, 1, 1, 1, 1, 1, 1, 2, 2, 2, 1, 1, 0, 1, 1, 2, 1, 2, 0, 1, 1, 0, 2, 0, 1, 1, 0, 2, 0, 2, 1, 1, 1, 1, 1, 1, 1, 1, 2, 1, 1, 2]\n",
      "ACTUAL =>  [1, 1, 1, 0, 2, 1, 2, 0, 1, 2, 2, 2, 0, 2, 0, 1, 1, 2, 0, 1, 2, 2, 2, 2, 1, 1, 2, 1, 1, 0, 1, 1, 2, 1, 1, 1, 2, 2, 2, 1, 1, 1, 1, 0, 1, 2, 1, 1, 0, 2, 0, 1, 1, 1, 2, 1, 0, 1, 1, 2, 0, 1, 1, 1, 1, 2, 1, 1, 2, 0, 2, 1, 2, 1, 0, 0, 0, 1, 1, 1, 0, 0, 1, 1, 0, 1, 2, 1, 1, 1, 1, 2, 1, 1, 1, 1, 2, 1, 2, 1, 1, 1, 1, 1, 1, 2, 2, 0, 1, 1, 0, 1, 1, 2, 2, 0, 1, 2, 1, 1, 0, 1, 0, 2, 2, 1, 2, 2, 1, 2, 1, 0, 1, 1, 0, 1, 2, 0, 0, 0, 0, 1, 0, 0, 1, 2, 2, 1, 0, 0, 1, 2, 2, 1, 1, 1, 0, 1, 2, 1, 2, 0, 1, 2, 2, 2, 1, 1, 1, 2, 1, 2, 2, 0, 0, 2, 1, 1, 1, 2, 1, 2, 0, 1, 1, 0, 2, 1, 0, 1, 2, 2, 0, 1, 0, 2, 1, 1, 1, 1, 1, 1, 1, 1, 0, 0, 1, 1, 1, 1, 2, 1, 1, 0, 2, 0, 0, 1, 1, 1, 1, 1, 0, 0, 0, 1, 0, 1, 0, 0, 0, 1, 2, 1, 1, 1, 1, 1, 1, 1, 0, 1, 0, 0, 2, 0, 1, 1, 2, 2, 1, 2, 0, 2, 0, 1, 1, 1, 0, 0, 2, 1, 1, 0, 0, 0, 1, 0, 2, 1, 2, 0, 2, 2, 1, 1, 0, 2, 0, 1, 2, 0, 1, 1, 2, 2, 1, 1, 2, 2, 0, 0, 1, 1, 1, 2, 0, 2, 1, 2, 2, 0, 2, 0, 1, 1, 1, 2, 1, 1, 0, 0, 2, 0, 0, 1, 0, 2, 1, 1, 2, 2, 2, 1, 2, 1, 0, 0, 2, 1, 2, 2, 1, 1, 1, 0, 0, 1, 2, 0, 2, 0, 0, 2, 1, 2, 1, 0, 1, 0, 2, 1, 1, 0, 1, 2, 1, 1, 1, 0, 0, 0, 2, 1, 2, 1, 1, 2, 0, 0, 0, 0, 1, 0, 1, 1, 2, 2, 1, 1, 1, 2, 0, 1, 2, 2, 1, 1, 1, 1, 2, 0, 1, 2, 1, 2, 0, 1, 0, 0, 1, 2, 2, 0, 1, 1, 0, 1, 2, 0, 1, 1, 1, 1, 1, 1, 1, 2, 1, 2, 1, 1, 1, 2, 0, 0, 2, 0, 0, 0, 2, 1, 1, 1, 2, 0, 1, 1, 2, 1, 2, 1, 1, 1, 1, 1, 2, 0, 1, 1, 0, 1, 1, 2, 1, 2, 2, 1, 0, 1, 1, 1, 1, 2, 2, 1, 2, 2, 0, 1, 2, 0, 2, 2, 0, 0, 1, 2, 2, 2, 1, 2, 1, 2, 2, 1, 1, 0, 1, 1, 1, 2, 0, 0, 1, 1, 1, 2, 2, 1, 0, 1, 2, 0, 2, 1, 1, 0, 1, 0, 2, 0, 1, 0, 1, 0, 0, 2, 2, 0, 2, 2, 0, 0, 2, 1, 1, 0, 1, 1, 0, 1, 0, 1, 1, 2, 1, 1, 1, 1, 1, 2, 1, 0, 1, 1, 0, 1, 0, 0, 0, 2, 0, 1, 2, 2, 2, 1, 0, 0, 1, 2, 0, 2, 1, 2, 1, 0, 0, 0, 1, 0, 0, 2, 0, 1, 2, 2, 2, 0, 0, 1, 0, 1, 2, 2, 1, 2]\n",
      "              precision    recall  f1-score   support\n",
      "\n",
      "           0       0.51      0.40      0.45       154\n",
      "           1       0.50      0.52      0.51       270\n",
      "           2       0.42      0.49      0.45       164\n",
      "\n",
      "    accuracy                           0.48       588\n",
      "   macro avg       0.48      0.47      0.47       588\n",
      "weighted avg       0.48      0.48      0.48       588\n",
      "\n"
     ]
    }
   ],
   "source": [
    "# Go through the test data\n",
    "token_probabilities = calculate_probability(best_smoothing)\n",
    "predictions = [classify(data.text, token_probabilities) for _, data in test_data.iterrows()]\n",
    "actual = [data.label for _, data in test_data.iterrows()]\n",
    "\n",
    "print(\"PREDICTION =>\", predictions)\n",
    "print(\"ACTUAL => \",actual)\n",
    "print(classification_report(actual, predictions, labels=[0,1,2]))\n"
   ]
  }
 ],
 "metadata": {
  "kernelspec": {
   "display_name": "Python 3",
   "language": "python",
   "name": "python3"
  },
  "language_info": {
   "codemirror_mode": {
    "name": "ipython",
    "version": 3
   },
   "file_extension": ".py",
   "mimetype": "text/x-python",
   "name": "python",
   "nbconvert_exporter": "python",
   "pygments_lexer": "ipython3",
   "version": "3.12.2"
  }
 },
 "nbformat": 4,
 "nbformat_minor": 5
}
