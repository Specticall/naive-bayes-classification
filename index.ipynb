{
 "cells": [
  {
   "cell_type": "code",
   "execution_count": 1,
   "id": "febcc444",
   "metadata": {},
   "outputs": [],
   "source": [
    "import numpy as np\n",
    "import pandas as pd\n",
    "import os\n",
    "from sklearn.model_selection import train_test_split\n",
    "from sklearn.metrics import classification_report"
   ]
  },
  {
   "cell_type": "markdown",
   "id": "5ea177eb",
   "metadata": {},
   "source": [
    "### 1. Read data CSV and split into train and test sets"
   ]
  },
  {
   "cell_type": "code",
   "execution_count": 2,
   "id": "5a2c5a63",
   "metadata": {},
   "outputs": [],
   "source": [
    "path = f\"{os.getcwd()}/data/training-data.csv\"\n",
    "data = pd.read_csv(path, on_bad_lines=\"skip\", delimiter=';')\n",
    "\n",
    "# Split the data 80/20 for training and testing\n",
    "train_data, test_data = train_test_split(\n",
    "  data,\n",
    "  train_size=0.8,\n",
    "  test_size=0.2,\n",
    "  random_state=42\n",
    ")"
   ]
  },
  {
   "cell_type": "markdown",
   "id": "05f6cd5a",
   "metadata": {},
   "source": [
    "### 2. Calculate initial probability for each label"
   ]
  },
  {
   "cell_type": "code",
   "execution_count": 3,
   "id": "c84050b9",
   "metadata": {},
   "outputs": [],
   "source": [
    "labels = train_data.label\n",
    "total_data_frequency = len(labels)\n",
    "label_frequencies = labels.value_counts().to_numpy()\n",
    "initial_probability = np.array([frequency / total_data_frequency for frequency in label_frequencies])"
   ]
  },
  {
   "cell_type": "markdown",
   "id": "a71746e8",
   "metadata": {},
   "source": [
    "### 3. Count how many times word X appears in label 0, 1, 2"
   ]
  },
  {
   "cell_type": "code",
   "execution_count": 4,
   "id": "936e48fe",
   "metadata": {},
   "outputs": [],
   "source": [
    "token_freq_map = {}\n",
    "token_freq_per_label = [0, 0 ,0]\n",
    "for i, row in train_data.iterrows():\n",
    "  label = row.label\n",
    "  tokens = str(row.text).split()\n",
    "\n",
    "  # Add the tokens count for the label\n",
    "  token_freq_per_label[label] += len(tokens)\n",
    "\n",
    "  for token in tokens:\n",
    "    # label 0, 1, 2 is labeled by the array's index, whilst the element is the count. e.g. map[\"I\"][0] -> how many times token \"I\" appear  in label 0\n",
    "    if token not in token_freq_map:\n",
    "      # Initialize empty list for non existing tokens\n",
    "      token_freq_map[token] = [0, 0, 0]\n",
    "\n",
    "    token_freq_map[token][label] += 1\n"
   ]
  },
  {
   "cell_type": "markdown",
   "id": "6ec0e9ea",
   "metadata": {},
   "source": [
    "### 4. Calculate the probability of word X in label 0, 1, 2"
   ]
  },
  {
   "cell_type": "code",
   "execution_count": 5,
   "id": "bc759c85",
   "metadata": {},
   "outputs": [],
   "source": [
    "token_probabilities = {}\n",
    "token_length = len(token_freq_map)\n",
    "SMOOTHING = 1\n",
    "for token, occurences in token_freq_map.items():\n",
    "  token_probabilities[token] = []\n",
    "  for label, occurence in enumerate(occurences):\n",
    "    # p(w | L) = (Count(w,L) + a) / TotalWords(L) + α·V\n",
    "    probability = (occurence + SMOOTHING) / (token_freq_per_label[label] + SMOOTHING * token_length)\n",
    "    token_probabilities[token].append(probability)"
   ]
  },
  {
   "cell_type": "markdown",
   "id": "79acfae5",
   "metadata": {},
   "source": [
    "### 5. Test the model"
   ]
  },
  {
   "cell_type": "code",
   "execution_count": 6,
   "id": "6398c79b",
   "metadata": {},
   "outputs": [
    {
     "name": "stdout",
     "output_type": "stream",
     "text": [
      "PREDICTION => [1, 2, 1, 1, 1, 1, 2, 1, 1, 1, 0, 2, 1, 1, 1, 1, 1, 0, 0, 1, 2, 1, 1, 1, 1, 2, 1, 2, 1, 1, 2, 1, 2, 1, 2, 1, 0, 1, 2, 1, 2, 2, 1, 1, 2, 2, 2, 1, 1, 0, 1, 2, 1, 1, 2, 1, 1, 1, 1, 2, 0, 2, 1, 0, 1, 1, 1, 2, 2, 2, 2, 2, 1, 2, 2, 1, 0, 1, 0, 2, 2, 1, 2, 1, 1, 1, 2, 1, 1, 2, 2, 2, 0, 1, 2, 1, 1, 2, 0, 2, 1, 1, 2, 1, 2, 2, 1, 1, 1, 2, 0, 1, 1, 0, 2, 2, 1, 1, 1, 1, 1, 1, 1, 1, 2, 1, 1, 1, 2, 2, 1, 1, 1, 2, 0, 2, 1, 2, 1, 0, 0, 1, 1, 1, 2, 1, 2, 2, 1, 1, 1, 2, 2, 1, 2, 1, 2, 1, 1, 2, 1, 1, 2, 1, 2, 0, 0, 1, 1, 1, 1, 2, 1, 1, 2, 2, 1, 1, 2, 1, 1, 1, 1, 1, 1, 0, 1, 1, 2, 1, 2, 1, 2, 2, 1, 0, 1, 1, 0, 1, 2, 1, 2, 2, 1, 0, 1, 1, 1, 1, 2, 2, 1, 1, 0, 1, 1, 0, 0, 1, 0, 1, 1, 1, 0, 2, 1, 0, 1, 0, 2, 1, 1, 2, 1, 0, 2, 1, 1, 1, 0, 2, 1, 1, 1, 1, 1, 2, 0, 1, 1, 2, 2, 2, 1, 2, 1, 1, 0, 1, 0, 1, 2, 0, 1, 1, 1, 1, 2, 2, 1, 1, 2, 1, 1, 1, 1, 1, 1, 2, 2, 1, 0, 0, 2, 2, 2, 2, 1, 1, 1, 1, 1, 1, 0, 0, 0, 2, 2, 2, 2, 2, 2, 0, 1, 1, 1, 2, 1, 1, 1, 2, 1, 0, 2, 0, 0, 0, 2, 2, 1, 2, 2, 0, 2, 2, 1, 2, 1, 1, 1, 2, 1, 1, 1, 1, 1, 2, 2, 1, 1, 1, 1, 1, 2, 1, 2, 1, 1, 2, 1, 2, 2, 1, 1, 1, 1, 2, 1, 2, 1, 1, 2, 0, 0, 2, 0, 2, 0, 0, 0, 1, 1, 1, 2, 2, 2, 0, 1, 0, 1, 1, 1, 2, 1, 0, 1, 2, 1, 2, 2, 0, 1, 2, 2, 1, 0, 1, 1, 1, 1, 2, 2, 0, 2, 0, 1, 1, 1, 1, 1, 2, 1, 1, 2, 1, 1, 2, 1, 1, 2, 2, 2, 2, 0, 2, 2, 0, 1, 0, 1, 1, 1, 1, 2, 0, 1, 2, 2, 0, 1, 1, 2, 1, 2, 2, 1, 2, 1, 0, 1, 1, 2, 1, 2, 1, 0, 1, 1, 1, 1, 0, 1, 0, 2, 2, 0, 2, 1, 1, 1, 1, 1, 2, 1, 1, 1, 2, 1, 2, 1, 1, 1, 1, 2, 1, 1, 0, 2, 1, 1, 2, 0, 1, 2, 2, 1, 2, 2, 2, 1, 2, 2, 1, 0, 2, 2, 0, 1, 1, 2, 1, 0, 0, 1, 0, 0, 1, 2, 2, 1, 2, 0, 0, 1, 1, 0, 0, 1, 2, 1, 0, 1, 0, 1, 2, 1, 2, 1, 2, 1, 2, 1, 1, 1, 1, 2, 1, 1, 1, 2, 1, 1, 2, 2, 2, 1, 2, 0, 2, 2, 0, 1, 2, 0, 1, 1, 0, 1, 1, 1, 1, 0, 2, 2, 1, 1, 1, 1, 1, 1, 2, 2, 2, 2, 2, 1, 2]\n",
      "ACTUAL =>  [1, 1, 1, 0, 2, 1, 2, 0, 1, 2, 2, 2, 0, 2, 0, 1, 1, 2, 0, 1, 2, 2, 2, 2, 1, 1, 2, 1, 1, 0, 1, 1, 2, 1, 1, 1, 2, 2, 2, 1, 1, 1, 1, 0, 1, 2, 1, 1, 0, 2, 0, 1, 1, 1, 2, 1, 0, 1, 1, 2, 0, 1, 1, 1, 1, 2, 1, 1, 2, 0, 2, 1, 2, 1, 0, 0, 0, 1, 1, 1, 0, 0, 1, 1, 0, 1, 2, 1, 1, 1, 1, 2, 1, 1, 1, 1, 2, 1, 2, 1, 1, 1, 1, 1, 1, 2, 2, 0, 1, 1, 0, 1, 1, 2, 2, 0, 1, 2, 1, 1, 0, 1, 0, 2, 2, 1, 2, 2, 1, 2, 1, 0, 1, 1, 0, 1, 2, 0, 0, 0, 0, 1, 0, 0, 1, 2, 2, 1, 0, 0, 1, 2, 2, 1, 1, 1, 0, 1, 2, 1, 2, 0, 1, 2, 2, 2, 1, 1, 1, 2, 1, 2, 2, 0, 0, 2, 1, 1, 1, 2, 1, 2, 0, 1, 1, 0, 2, 1, 0, 1, 2, 2, 0, 1, 0, 2, 1, 1, 1, 1, 1, 1, 1, 1, 0, 0, 1, 1, 1, 1, 2, 1, 1, 0, 2, 0, 0, 1, 1, 1, 1, 1, 0, 0, 0, 1, 0, 1, 0, 0, 0, 1, 2, 1, 1, 1, 1, 1, 1, 1, 0, 1, 0, 0, 2, 0, 1, 1, 2, 2, 1, 2, 0, 2, 0, 1, 1, 1, 0, 0, 2, 1, 1, 0, 0, 0, 1, 0, 2, 1, 2, 0, 2, 2, 1, 1, 0, 2, 0, 1, 2, 0, 1, 1, 2, 2, 1, 1, 2, 2, 0, 0, 1, 1, 1, 2, 0, 2, 1, 2, 2, 0, 2, 0, 1, 1, 1, 2, 1, 1, 0, 0, 2, 0, 0, 1, 0, 2, 1, 1, 2, 2, 2, 1, 2, 1, 0, 0, 2, 1, 2, 2, 1, 1, 1, 0, 0, 1, 2, 0, 2, 0, 0, 2, 1, 2, 1, 0, 1, 0, 2, 1, 1, 0, 1, 2, 1, 1, 1, 0, 0, 0, 2, 1, 2, 1, 1, 2, 0, 0, 0, 0, 1, 0, 1, 1, 2, 2, 1, 1, 1, 2, 0, 1, 2, 2, 1, 1, 1, 1, 2, 0, 1, 2, 1, 2, 0, 1, 0, 0, 1, 2, 2, 0, 1, 1, 0, 1, 2, 0, 1, 1, 1, 1, 1, 1, 1, 2, 1, 2, 1, 1, 1, 2, 0, 0, 2, 0, 0, 0, 2, 1, 1, 1, 2, 0, 1, 1, 2, 1, 2, 1, 1, 1, 1, 1, 2, 0, 1, 1, 0, 1, 1, 2, 1, 2, 2, 1, 0, 1, 1, 1, 1, 2, 2, 1, 2, 2, 0, 1, 2, 0, 2, 2, 0, 0, 1, 2, 2, 2, 1, 2, 1, 2, 2, 1, 1, 0, 1, 1, 1, 2, 0, 0, 1, 1, 1, 2, 2, 1, 0, 1, 2, 0, 2, 1, 1, 0, 1, 0, 2, 0, 1, 0, 1, 0, 0, 2, 2, 0, 2, 2, 0, 0, 2, 1, 1, 0, 1, 1, 0, 1, 0, 1, 1, 2, 1, 1, 1, 1, 1, 2, 1, 0, 1, 1, 0, 1, 0, 0, 0, 2, 0, 1, 2, 2, 2, 1, 0, 0, 1, 2, 0, 2, 1, 2, 1, 0, 0, 0, 1, 0, 0, 2, 0, 1, 2, 2, 2, 0, 0, 1, 0, 1, 2, 2, 1, 2]\n",
      "              precision    recall  f1-score   support\n",
      "\n",
      "           0       0.45      0.26      0.33       154\n",
      "           1       0.49      0.55      0.52       270\n",
      "           2       0.39      0.46      0.42       164\n",
      "\n",
      "    accuracy                           0.45       588\n",
      "   macro avg       0.44      0.42      0.42       588\n",
      "weighted avg       0.45      0.45      0.44       588\n",
      "\n"
     ]
    }
   ],
   "source": [
    "def classify(text):\n",
    "  scores = initial_probability.copy()\n",
    "  tokens = text.split()\n",
    "\n",
    "  # Calculate probability for each label\n",
    "  for label in range(len(scores)):\n",
    "    for token in tokens:\n",
    "      if token in token_probabilities:\n",
    "        scores[label] *= token_probabilities[token][label]\n",
    "\n",
    "  # Retrieve the largest guess score's index (AKA. the label)\n",
    "  predicted_label = np.argmax(scores)\n",
    "  return predicted_label\n",
    "\n",
    "# Go through the test data\n",
    "predictions = [classify(data.text) for _, data in test_data.iterrows()]\n",
    "actual = [data.label for _, data in test_data.iterrows()]\n",
    "\n",
    "print(\"PREDICTION =>\", predictions)\n",
    "print(\"ACTUAL => \",actual)\n",
    "print(classification_report(actual, predictions, labels=[0,1,2]))\n"
   ]
  }
 ],
 "metadata": {
  "kernelspec": {
   "display_name": "Python 3",
   "language": "python",
   "name": "python3"
  },
  "language_info": {
   "codemirror_mode": {
    "name": "ipython",
    "version": 3
   },
   "file_extension": ".py",
   "mimetype": "text/x-python",
   "name": "python",
   "nbconvert_exporter": "python",
   "pygments_lexer": "ipython3",
   "version": "3.12.2"
  }
 },
 "nbformat": 4,
 "nbformat_minor": 5
}
